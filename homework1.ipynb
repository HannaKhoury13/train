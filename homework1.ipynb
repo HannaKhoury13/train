{
 "cells": [
  {
   "cell_type": "code",
   "execution_count": 1,
   "metadata": {},
   "outputs": [],
   "source": [
    "import os"
   ]
  },
  {
   "cell_type": "code",
   "execution_count": 2,
   "metadata": {},
   "outputs": [],
   "source": [
    "import math"
   ]
  },
  {
   "cell_type": "code",
   "execution_count": 3,
   "metadata": {},
   "outputs": [],
   "source": [
    "class Person():\n",
    "    name = \"\"\n",
    "    age = 0\n",
    "    position=[0,0]\n",
    "    def enter_your_name(self,name):\n",
    "        self.name = name.title()\n",
    "    def enter_your_age(self,age):\n",
    "        self.age=age\n",
    "    def print_name(self):\n",
    "        print(self.name)\n",
    "    def print_age(self):\n",
    "        print(self.age)\n",
    "    def move(self,x,y):\n",
    "        p0 = float(self.position[0])\n",
    "        p1 = float(self.position[1])\n",
    "        x = float(x)\n",
    "        y = float(y)\n",
    "        z = math.sqrt((p0-x)**2+(p1-y)**2)\n",
    "        self.position[0]=x\n",
    "        self.position[1]=y\n",
    "        print('moved to the point (',x,',',y,') .. the distance cutted is = ',z)\n",
    "    def my_position(self):\n",
    "        print(self.position)"
   ]
  },
  {
   "cell_type": "code",
   "execution_count": 4,
   "metadata": {},
   "outputs": [],
   "source": [
    "hanna = Person()"
   ]
  },
  {
   "cell_type": "code",
   "execution_count": 5,
   "metadata": {},
   "outputs": [
    {
     "name": "stdout",
     "output_type": "stream",
     "text": [
      "\n"
     ]
    }
   ],
   "source": [
    "hanna.print_name()"
   ]
  },
  {
   "cell_type": "code",
   "execution_count": 6,
   "metadata": {},
   "outputs": [],
   "source": [
    "hanna.enter_your_name('hanna khoury')"
   ]
  },
  {
   "cell_type": "code",
   "execution_count": 7,
   "metadata": {},
   "outputs": [
    {
     "name": "stdout",
     "output_type": "stream",
     "text": [
      "Hanna Khoury\n"
     ]
    }
   ],
   "source": [
    "hanna.print_name()"
   ]
  },
  {
   "cell_type": "code",
   "execution_count": 8,
   "metadata": {},
   "outputs": [
    {
     "name": "stdout",
     "output_type": "stream",
     "text": [
      "0\n"
     ]
    }
   ],
   "source": [
    "hanna.print_age()"
   ]
  },
  {
   "cell_type": "code",
   "execution_count": 9,
   "metadata": {},
   "outputs": [],
   "source": [
    "hanna.enter_your_age(21)"
   ]
  },
  {
   "cell_type": "code",
   "execution_count": 10,
   "metadata": {},
   "outputs": [
    {
     "name": "stdout",
     "output_type": "stream",
     "text": [
      "21\n"
     ]
    }
   ],
   "source": [
    "hanna.print_age()"
   ]
  },
  {
   "cell_type": "code",
   "execution_count": 11,
   "metadata": {},
   "outputs": [
    {
     "name": "stdout",
     "output_type": "stream",
     "text": [
      "moved to the point ( 4.0 , 3.0 ) .. the distance cutted is =  5.0\n"
     ]
    }
   ],
   "source": [
    "hanna.move(4,3)"
   ]
  },
  {
   "cell_type": "code",
   "execution_count": 12,
   "metadata": {},
   "outputs": [
    {
     "name": "stdout",
     "output_type": "stream",
     "text": [
      "[4.0, 3.0]\n"
     ]
    }
   ],
   "source": [
    "hanna.my_position()"
   ]
  },
  {
   "cell_type": "code",
   "execution_count": null,
   "metadata": {},
   "outputs": [],
   "source": []
  }
 ],
 "metadata": {
  "kernelspec": {
   "display_name": "Python 3",
   "language": "python",
   "name": "python3"
  },
  "language_info": {
   "codemirror_mode": {
    "name": "ipython",
    "version": 3
   },
   "file_extension": ".py",
   "mimetype": "text/x-python",
   "name": "python",
   "nbconvert_exporter": "python",
   "pygments_lexer": "ipython3",
   "version": "3.7.3"
  }
 },
 "nbformat": 4,
 "nbformat_minor": 2
}
